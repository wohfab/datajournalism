{
 "cells": [
  {
   "cell_type": "markdown",
   "metadata": {
    "slideshow": {
     "slide_type": "slide"
    }
   },
   "source": [
    "# COVID-19 - Bestätigte Fälle und Todesfälle - Weltweit\n",
    "\n",
    "*Ein Projekt zur Erbringungen der portfoliorelevanten Leistung für den Kurs **Data Jornalism** im Modul **23-TXT-BaCL5** im Studiengang **Texttechnologie und Computerlinguistik** der **Universität Bielefeld**.*\n",
    "\n",
    "# Requirements\n",
    "\n",
    "Alle Programme, die zur Ausführung des Codes notwendig sind, befinden sich in der Textdatei `requirements.txt` und lassen sich über den folgenden Befehl per `pip3` installieren.\n",
    "\n",
    "`pip3 install -r requirements.txt`\n",
    "\n",
    "# Imports\n",
    "\n",
    "Für die Ausführung des Projektes benötigen wir folgende Python-Pakete:\n",
    "\n",
    "- `pandas`, um den Typ `DataFrame` zu nutzen und unsere tabellarischen Daten zu verarbeiten.\n",
    "- `plotly`, um die Daten auf einer Landkarte darzustellen.\n",
    "- `urllib.requests`, um die aktuellsten Zahlen herunterzuladen.\n",
    "- `datetime`, um das heutige Datum herauszufinden."
   ]
  },
  {
   "cell_type": "code",
   "execution_count": null,
   "metadata": {
    "slideshow": {
     "slide_type": "subslide"
    }
   },
   "outputs": [],
   "source": [
    "import pandas as pd\n",
    "\n",
    "import plotly.graph_objects as go\n",
    "import plotly.express as px\n",
    "from plotly.subplots import make_subplots\n",
    "\n",
    "import urllib.request\n",
    "from datetime import datetime, timedelta"
   ]
  },
  {
   "cell_type": "markdown",
   "metadata": {
    "slideshow": {
     "slide_type": "slide"
    }
   },
   "source": [
    "# Datensatz\n",
    "\n",
    "## Quelle\n",
    "\n",
    "Der Datensatz ist den Zahlen des **ECDC - European Centre for Disease Prevention and Control** ([Website](https://www.ecdc.europa.eu/en/publications-data/download-todays-data-geographic-distribution-covid-19-cases-worldwide)) entnommmen.\n",
    "\n",
    "## Automatisierte Beschaffung\n",
    "\n",
    "Die Daten befinden sich auf der Website des ECDC im `.xlsx`-Format. Zunächst wird die Datei heruntergeladen und im `assets/`-Ordner gesichert. Dabei versuchen wir, die Daten von Heute herunterzuladen. Sollten diese (noch) nicht verfügbar sein, werden die Daten vom gestrigen Tag heruntergeladen. Wenn auch diese nicht verfügbar sind, findet ein Fallback statt auf die letzte händisch heruntergeladene und geprüfte Datei vom `21.03.2020`.\n",
    "\n",
    "Nach dem Versuch, die Tagesaktuellen Zahlen herunterzuladen, wird die Variable `data_file` auf die aktuellste Datei festgelegt."
   ]
  },
  {
   "cell_type": "code",
   "execution_count": null,
   "metadata": {
    "slideshow": {
     "slide_type": "subslide"
    }
   },
   "outputs": [],
   "source": [
    "url_base = 'https://www.ecdc.europa.eu/sites/default/files/documents/'\n",
    "url_file = 'COVID-19-geographic-disbtribution-worldwide-{}.xlsx'\n",
    "\n",
    "try:\n",
    "    date = datetime.date(datetime.now())\n",
    "    url_today = url_file.format(date)\n",
    "    url = url_base + url_today\n",
    "    \n",
    "    urllib.request.urlretrieve(url, 'assets/' + url_today)\n",
    "    url_file = url_today\n",
    "except:\n",
    "    try:\n",
    "        date = date - timedelta(days=1)\n",
    "        url_yesterday = url_file.format(date)\n",
    "        url = url_base + url_yesterday\n",
    "\n",
    "        urllib.request.urlretrieve(url, 'assets/' + url_yesterday)\n",
    "        url_file = url_yesterday\n",
    "    except:\n",
    "        url_file = 'COVID-19-geographic-disbtribution-worldwide-2020-03-21.xlsx'\n",
    "finally:\n",
    "    data_file = url_file\n",
    "    print('Genutzte Datei: ' + data_file)"
   ]
  },
  {
   "cell_type": "markdown",
   "metadata": {
    "slideshow": {
     "slide_type": "subslide"
    }
   },
   "source": [
    "Im Anschluss wird die Datei über `pandas` eingelesen und als `DataFrame`-Objekt gespeichert, damit wir die Daten tabellarisch auswerten können. Bevor wir Änderungen an den Daten vornehmen, werden wir diese in einer weiteren Variable zwischenspeichern. Auf diese Art und Weise können wir auch nach Veränderungen immer auf die Ausgangsdaten zurückgreifen, um etwaige Fehler zu finden.\n",
    "\n",
    "Zum Test der Funktionalität, lassen wir uns die ersten Zeilen des entstandenen `DataFrame` ausgeben. Dies dient außerdem der Überprüfung, ob die Daten weiterer Bereinigung bedürfen."
   ]
  },
  {
   "cell_type": "code",
   "execution_count": null,
   "metadata": {
    "scrolled": false,
    "slideshow": {
     "slide_type": "subslide"
    }
   },
   "outputs": [],
   "source": [
    "data = pd.read_excel('assets/' + data_file)\n",
    "data_raw = data\n",
    "data.head()"
   ]
  },
  {
   "cell_type": "markdown",
   "metadata": {
    "slideshow": {
     "slide_type": "slide"
    }
   },
   "source": [
    "## Sichtung\n",
    "\n",
    "Die ersten Zeilen der Datei benötigen keine Bereinigung. Sowohl die Indizes als auch die Kopfzeile funktionieren wie gewünscht. Da wir eine Datumsspalte haben, werden die Spalten für Tag, Monat und Jahr prinzipiell nicht benötigt. Da diese im weiteren Verlauf jedoch nicht störend sind, können wir die Spalten so beibehalten.\n",
    "\n",
    "Eine Fehlerquelle in den Daten kann eine fehlende oder falsch formatierte `GeoId` sein, weshalb wir uns die vorhandenen `GeoId`s ausgeben lassen. Da wir keine Duplikate haben wollen, nutzen wir für die Ausgabe eine Menge."
   ]
  },
  {
   "cell_type": "code",
   "execution_count": null,
   "metadata": {
    "slideshow": {
     "slide_type": "subslide"
    }
   },
   "outputs": [],
   "source": [
    "geoids = set()\n",
    "\n",
    "for geoid in data['GeoId']:\n",
    "    geoids.add(geoid)\n",
    "\n",
    "print('Anzahl der verschiedenen Länder: ' + str(len(geoids)))\n",
    "print(geoids)"
   ]
  },
  {
   "cell_type": "markdown",
   "metadata": {
    "slideshow": {
     "slide_type": "subslide"
    }
   },
   "source": [
    "Hier fällt auf, dass einige Einträge vorhanden sind, die nicht über einen zweistelligen Länder-Code abgebildet werden. Die nicht-zweistelligen Ländercodes ermitteln wir wiefolgt, um herauszufinden, bei welchen Einträgen Reinigungsbedarf besteht."
   ]
  },
  {
   "cell_type": "code",
   "execution_count": null,
   "metadata": {
    "slideshow": {
     "slide_type": "subslide"
    }
   },
   "outputs": [],
   "source": [
    "geoid_error = data[data['GeoId'].str.len() != 2]\n",
    "\n",
    "false_geoid = set()\n",
    "\n",
    "for country in geoid_error['Countries and territories']:\n",
    "    false_geoid.add(country)\n",
    "    \n",
    "for false_id in false_geoid:\n",
    "    print(false_id)"
   ]
  },
  {
   "cell_type": "markdown",
   "metadata": {
    "slideshow": {
     "slide_type": "slide"
    }
   },
   "source": [
    "Wirft man einen Blick auf diese Einträge, stellt man fest, dass für *Namibia* keine Einträge in der `GeoId` vorhanden sind (`nan`), *French_Polynesia* bereits einen dreistelligen Länder-Code eingetragen hat und *Cases_on_an_international_conveyance_Japan* eine spezielle achtstellige `GeoId` zugewiesen bekommen hat.\n",
    "\n",
    "Über eine kurze Recherche lässt sich schnell herausfinden, dass der `Alpha-3`-Code für *Namibia* `NAM` ist. Bei *Cases_on_an_international_conveyance_Japan* handelt es sich um das Passagier-Schiff *Diamond Princess*, welches vor dem Hafen von Yokohama in Japan liegt/lag und in den Daten nicht zu Japans Fällen dazugezählt wird.\n",
    "\n",
    "An dieser Stelle haben wir zwei Möglichkeiten, die Daten zu bereinigen, da `Plotly` zur Darstellung der Daten dreistellige Länder-Codes benötigt.\n",
    "\n",
    "1. Die Fälle der *Diamond Princess* nicht auf der Weltkarte darstellen, also ein Sub-Set unserer Daten erstellen, aus dem wir diese herausnehmen\n",
    "2. Die Fälle einem Land (z.B. Japan) zuordnen\n",
    "3. Die Fälle weiterhin unter *Cases_on_an_international_conveyance_Japan* führen\n",
    "\n",
    "Für das Erstellen der Weltkarte benötigen wir zwingend dreistellige Länder-Codes. Da die *Diamond Princess* nicht über einen solchen verfügt, ist für die Weltkarte die dritte Option nicht nützlich. Dennoch werden wir die Daten erhalten, um über Gesamt-Fälle Aussagen treffen zu können. Diese Daten werden weiter unter der Variable `data` geführt. Die Informationen zu den Einträgen, die keinen gültigen dreistelligen Länder-Code enthalten, werden entsprechend auf Weltkarten dann nicht dargestellt.\n",
    "\n",
    "\n",
    "## Aufbereitung & Bereinigung\n",
    "\n",
    "Für Namibia können wir bereits den entsprechenden Länder-Code in die `GeoId`-Spalte einfügen."
   ]
  },
  {
   "cell_type": "code",
   "execution_count": null,
   "metadata": {},
   "outputs": [],
   "source": [
    "data.replace(\"nan\", \"NA\", inplace=True)"
   ]
  },
  {
   "cell_type": "markdown",
   "metadata": {},
   "source": [
    "Um die Daten im späteren Verlauf per `plotly` auf einer Weltkarte darstellen zu können, benötigen wir Länder-Codes im Format `ISO3166 Alpha-3`. Die `GeoId` aus den vorhanden Daten nutzt jedoch `ISO3166 Alpha-2`, weshalb wir eine weitere Spalte zu unseren Daten hinzufügen werden, die die entsprechenden Codes enthält. Hier bedienen wir uns einer Liste, die sowohl `Alpha-2`- als auch `Alpha-3`-Codes enthält."
   ]
  },
  {
   "cell_type": "code",
   "execution_count": null,
   "metadata": {
    "scrolled": true
   },
   "outputs": [],
   "source": [
    "iso3166 = pd.read_csv('assets/iso3166.csv')\n",
    "iso3166.head()"
   ]
  },
  {
   "cell_type": "markdown",
   "metadata": {},
   "source": [
    "Nun können wir die Spalte mit den dreistelligen Länder-Codes hinzufügen. Dazu nutzen wir die vorher bereits importierte `ISO3166`-Liste."
   ]
  },
  {
   "cell_type": "code",
   "execution_count": null,
   "metadata": {
    "scrolled": true
   },
   "outputs": [],
   "source": [
    "data['GeoId3'] = data['GeoId'].replace(iso3166.set_index('ISO3166-ALPHA-2')['ISO3166-ALPHA-3'])\n",
    "data.head()"
   ]
  },
  {
   "cell_type": "markdown",
   "metadata": {},
   "source": [
    "Wir wir hier sehen können, wurde die benötigte Spalte `GeoId3` hinzugefügt und mit den entsprechenden dreistelligen Länder-Codes befüllt.\n",
    "\n",
    "Da sowohl die Index-Spalte als auch die Kopfzeile der Tabelle bereits vielversprechend formatiert sind und es keine weiteren Daten gibt, die bereinigt werden müssen, können wir den Datensatz so weiter verwenden. \n",
    "\n",
    "# Anwendung - Statistik\n",
    "\n",
    "##  Tagesdaten für ein Land\n",
    "\n",
    "Beispielsweise können wir die Daten in kleinere Einheiten aufteilen, um nicht zu jeder Zeit mit dem gesamten Datensatz arbeiten zu müssen. Über Ansprechen der `GeoId`-Spalte können wir die Daten für Deutschland hersausfiltern. Wir speichern die Daten entsprechend in der Variable `data_deu`."
   ]
  },
  {
   "cell_type": "code",
   "execution_count": null,
   "metadata": {
    "scrolled": false
   },
   "outputs": [],
   "source": [
    "def data_subset_country(geoid3):\n",
    "    return data[data.GeoId3 == geoid3].reset_index(drop=True)\n",
    "\n",
    "data_deu = data_subset_country(\"DEU\")\n",
    "data_deu.head()"
   ]
  },
  {
   "cell_type": "markdown",
   "metadata": {},
   "source": [
    "Hier sieht man der Verlauf der neu bestätigten Fälle und Todesfälle in Deutschland."
   ]
  },
  {
   "cell_type": "code",
   "execution_count": null,
   "metadata": {},
   "outputs": [],
   "source": [
    "def plot_verlauf(data):\n",
    "    fig = make_subplots(rows=2, cols=1)\n",
    "\n",
    "    fig.add_trace(\n",
    "        go.Scatter(x=data.DateRep, y=data.Cases, name=\"Fälle\"),\n",
    "        row=1, col=1,\n",
    "    )\n",
    "\n",
    "    fig.add_trace(\n",
    "        go.Scatter(x=data.DateRep, y=data.Deaths, name=\"Todesfälle\"),\n",
    "        row=2, col=1\n",
    "    )\n",
    "    \n",
    "    fig.update_layout(title_text='Verlauf bestätigter Fälle und Todesfälle')\n",
    "\n",
    "    fig.show()\n",
    "    \n",
    "plot_verlauf(data_deu)"
   ]
  },
  {
   "cell_type": "markdown",
   "metadata": {},
   "source": [
    "Nun schauen wir, welche Daten ohne Weiteres aus der vorhandenen Tabell extrahiert werden können. Zum einen können wir die Summe der bestätigten Krankheitsfälle ausgeben lassen. Zum anderen lässt sich auch die Zahl der bestätigten Todesfälle extrahieren."
   ]
  },
  {
   "cell_type": "code",
   "execution_count": null,
   "metadata": {},
   "outputs": [],
   "source": [
    "deu_cases = data_deu.Cases.sum()\n",
    "deu_cases"
   ]
  },
  {
   "cell_type": "code",
   "execution_count": null,
   "metadata": {},
   "outputs": [],
   "source": [
    "deu_deaths = data_deu.Deaths.sum()\n",
    "deu_deaths"
   ]
  },
  {
   "cell_type": "markdown",
   "metadata": {},
   "source": [
    "## Akkumulierte Daten\n",
    "\n",
    "Um die Gesamtzahlen aller Fälle und Todesälle darstellen zu können, summieren wir die Tagesdaten auf und erhalten so eine Liste aller Länder und den aufsummierten Zahlen. Dies machen wir zum einen kumulativ, sodass wir einen Verlauf darstellen können und zum anderen erstellen wir ein Sub-Set `data_total`, welches nur die Summe notiert.\n",
    "\n",
    "Dazu werden in beiden Datensätzen Verhältnis-Daten zwischen Todesfällen und Infizierten hinzugefügt."
   ]
  },
  {
   "cell_type": "code",
   "execution_count": null,
   "metadata": {
    "scrolled": true
   },
   "outputs": [],
   "source": [
    "data['CumCases'] = data.sort_values(by='DateRep').groupby('GeoId3')['Cases'].cumsum()\n",
    "data['CumDeaths'] = data.sort_values(by='DateRep').groupby('GeoId3')['Deaths'].cumsum()\n",
    "data['CumRatio'] = data['Deaths'] / data['Cases'] * 100"
   ]
  },
  {
   "cell_type": "code",
   "execution_count": null,
   "metadata": {},
   "outputs": [],
   "source": [
    "data_total = data.groupby(['GeoId3',\n",
    "                           \"Countries and territories\"],\n",
    "                          as_index=False).sum()[['GeoId3', \n",
    "                                                 'Countries and territories', \n",
    "                                                 'Cases', \n",
    "                                                 'Deaths']]\n",
    "\n",
    "data_total['Ratio'] = data_total['Deaths'] / data_total['Cases'] * 100"
   ]
  },
  {
   "cell_type": "code",
   "execution_count": null,
   "metadata": {},
   "outputs": [],
   "source": [
    "def plot_gesamtzahlen(data=data_total, sort=True, limit=15):\n",
    "    \"\"\"\n",
    "    Horizontales Balkendiagramm mit den Gesamtzahlen der Fälle und Todesfälle.\n",
    "    \n",
    "    data: Datensatz\n",
    "    sort: Boolean; soll sortiert werden?\n",
    "    limit: Boolean; sollen nur die 'top' Einträge angezeigt werden? (Nur in Verbindung mit sort zu verwenden)\n",
    "    \"\"\"\n",
    "    \n",
    "    if sort:\n",
    "        if limit:\n",
    "            data = data.sort_values('Cases').tail(limit)\n",
    "        else:\n",
    "            data = data.sort_values('Cases')\n",
    "            \n",
    "    fig = go.Figure()\n",
    "    \n",
    "    fig.add_trace(go.Bar(\n",
    "        x=data['Cases'],\n",
    "        y=data['Countries and territories'],\n",
    "        orientation='h',\n",
    "        name='Infizierte',\n",
    "        marker_color=\"green\"))\n",
    "    \n",
    "    fig.add_trace(go.Bar(\n",
    "        x=data['Deaths'],\n",
    "        y=data['Countries and territories'],\n",
    "        orientation='h',\n",
    "        name='Todesfälle',\n",
    "        marker_color=\"red\"))\n",
    "     \n",
    "    fig.update_layout(barmode='stack', xaxis_tickangle=-45, title_text='Bestätigte Fälle und Todesfälle')\n",
    "\n",
    "    fig.show()\n",
    "    \n",
    "def plot_ratio(data=data_total, sort=True, limit=15):\n",
    "    \n",
    "    if sort:\n",
    "        if limit:\n",
    "            data = data.sort_values('Cases').tail(limit)\n",
    "        else:\n",
    "            data = data.sort_values('Cases')\n",
    "                \n",
    "    fig = go.Figure()\n",
    "    \n",
    "    fig.add_trace(go.Bar(\n",
    "        x=data['Ratio'],\n",
    "        y=data['Countries and territories'],\n",
    "        orientation='h',\n",
    "        marker_color=\"blue\"))\n",
    "    \n",
    "    fig.update_layout(xaxis_tickangle=-45, title_text='Verhältnis von Todesfällen zu Infizierten in %')\n",
    "\n",
    "    fig.show()\n",
    "    \n",
    "def plot_verlauf_cum(data):\n",
    "    fig = make_subplots(rows=3, cols=1)\n",
    "\n",
    "    fig.add_trace(\n",
    "        go.Scatter(x=data.DateRep, y=data['CumCases'], name=\"Fälle\"),\n",
    "        row=1, col=1,\n",
    "    )\n",
    "\n",
    "    fig.add_trace(\n",
    "        go.Scatter(x=data.DateRep, y=data['CumDeaths'], name=\"Todesfälle\"),\n",
    "        row=2, col=1\n",
    "    )\n",
    "    \n",
    "    fig.add_trace(\n",
    "        go.Scatter(x=data.DateRep, y=data['CumRatio'], name=\"Verhältnis\"),\n",
    "        row=3, col=1\n",
    "    )\n",
    "    \n",
    "    country = data['Countries and territories'][0]\n",
    "    fig.update_layout(title_text='Verlauf bestätigter Fälle, Todesfälle und deren Verhältnis - {}'.format(country))\n",
    "\n",
    "    fig.show()"
   ]
  },
  {
   "cell_type": "code",
   "execution_count": null,
   "metadata": {},
   "outputs": [],
   "source": [
    "plot_gesamtzahlen(data_total)"
   ]
  },
  {
   "cell_type": "markdown",
   "metadata": {},
   "source": [
    "Hierbei ist das Verhältnis besonders auffällig, weshalb wir dieses einmal alleine plotten; jedoch sortiert weiterhin nach den Infizierten-Zahlen."
   ]
  },
  {
   "cell_type": "code",
   "execution_count": null,
   "metadata": {},
   "outputs": [],
   "source": [
    "plot_ratio()"
   ]
  },
  {
   "cell_type": "markdown",
   "metadata": {},
   "source": [
    "# Anwendung Weltkarten\n",
    "\n",
    "Für die Darstellung auf Weltkarten, schreiben wir eine Funktion, die einen Datensatz als Input nimmt und die entsprechende Karte ausgibt. Über den Wert von `plot_value` lässt sich angeben, ob die Inifizierten-Fälle oder die Todesfälle angezeigt werden sollen."
   ]
  },
  {
   "cell_type": "code",
   "execution_count": null,
   "metadata": {},
   "outputs": [],
   "source": [
    "def plot_world_map(data=data, plot_value='Cases'):\n",
    "    \"\"\"\n",
    "    data: Datensatz, der geplottet werden soll\n",
    "    plot_value: 'Cases' oder 'Deaths'\n",
    "    \"\"\"\n",
    "    \n",
    "    world_map = go.Figure(data=go.Choropleth(\n",
    "        z = data[plot_value],\n",
    "        locations = data['GeoId3'],\n",
    "        colorscale = 'Greens' if plot_value == 'Cases' else 'Reds' if plot_value == 'Deaths' else 'Blues',\n",
    "        marker_line_width=0.2,\n",
    "        colorbar_title = plot_value,\n",
    "        text = data['Countries and territories'],\n",
    "    ))\n",
    "    \n",
    "    world_map.update_layout(geo=dict(showframe=False, showcoastlines=False, projection_type='equirectangular'))\n",
    "    world_map.show()"
   ]
  },
  {
   "cell_type": "markdown",
   "metadata": {},
   "source": [
    "## Bestätigte Infizierte"
   ]
  },
  {
   "cell_type": "code",
   "execution_count": null,
   "metadata": {},
   "outputs": [],
   "source": [
    "plot_world_map(data_total, 'Cases')"
   ]
  },
  {
   "cell_type": "markdown",
   "metadata": {},
   "source": [
    "## Bestätige Todesfälle"
   ]
  },
  {
   "cell_type": "code",
   "execution_count": null,
   "metadata": {},
   "outputs": [],
   "source": [
    "plot_world_map(data_total, 'Deaths')"
   ]
  },
  {
   "cell_type": "markdown",
   "metadata": {},
   "source": [
    "## Verhältnis der Todesfälle zu den Infiziertenzahlen"
   ]
  },
  {
   "cell_type": "code",
   "execution_count": null,
   "metadata": {},
   "outputs": [],
   "source": [
    "plot_world_map(data_total, plot_value='Ratio')"
   ]
  },
  {
   "cell_type": "code",
   "execution_count": null,
   "metadata": {},
   "outputs": [],
   "source": [
    "plot_verlauf_cum(data_subset_country('DEU'))"
   ]
  },
  {
   "cell_type": "markdown",
   "metadata": {},
   "source": [
    "# Ausblick\n",
    "\n",
    "Möglichkeiten, das Projekt zu erweitern:\n",
    "\n",
    "- *Timeline*: Weltkarte mit Zeitleiste, um den Verlauf der bestätigten Fälle beobachten zu können. Dies ist jedoch mit den genutzten Programmen nicht möglich. Plotly bietet keine Zeitleisten für Weltkarten an. Sollte sich ein entsprechendes Programm finden, müsste der Datensatz so bearbeitet werden, dass für jeden Tag ein Eintrag für jedes Land existiert. Außerdem müssen die Zeilen im Datensatz immer die akkumulierten Zahlen zeigen; nicht die *an dem Tag* bestätigten.\n",
    "- *Weitere Datensätze*: Der Datensatz des ECDC beschränkt sich auf wesentliche geografische Informationen. Eine Aufschlüsselung in kleinere geografische Einheiten war mir nicht möglich. Das Robert-Koch-Institut besitzt solche Daten, macht diese jedoch nicht für die Allgemeinheit zugänglich. Außerdem wäre interessant, ein Datensatz zu nutzen, der über die geografischen Daten hinaus auch Personendaten umfasst. Dabei ist das Alter der PatientInnen vermutlich besonders interessant."
   ]
  }
 ],
 "metadata": {
  "celltoolbar": "Slideshow",
  "kernelspec": {
   "display_name": "Python 3",
   "language": "python",
   "name": "python3"
  },
  "language_info": {
   "codemirror_mode": {
    "name": "ipython",
    "version": 3
   },
   "file_extension": ".py",
   "mimetype": "text/x-python",
   "name": "python",
   "nbconvert_exporter": "python",
   "pygments_lexer": "ipython3",
   "version": "3.7.7"
  }
 },
 "nbformat": 4,
 "nbformat_minor": 4
}
