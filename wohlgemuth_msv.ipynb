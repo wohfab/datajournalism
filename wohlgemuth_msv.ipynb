{
 "cells": [
  {
   "cell_type": "markdown",
   "metadata": {
    "collapsed": true
   },
   "source": [
    "# Beschreibung der Erweiterung von Grammatiken um Merkmalsstrukturen\n",
    "\n",
    "**Abschlussprojekt - [230020](https://ekvv.uni-bielefeld.de/kvv_publ/publ/vd?id=65410687) Maschinelle Sprachverarbeitung (S) (SoSe 2016)**  \n",
    "Sommersemester 2016 - Abgabe 18. September 2016  \n",
    "Fabian Wohlgemuth - [fabian.wohlgemuth@uni-bielefeld.de](mailto:fabian.wohlgemuth@uni-bielefeld.de)\n",
    "\n",
    "___"
   ]
  },
  {
   "cell_type": "markdown",
   "metadata": {},
   "source": [
    "## Imports & Funktionen"
   ]
  },
  {
   "cell_type": "markdown",
   "metadata": {},
   "source": [
    "Zusätzlich zum Import des `nltk`, der `codecs` library zum Speichern einer Datei und der `Image` library, welche zur grafischen Darstellung der Strukturbäume genutzt wird, werden hier Hilfsfunktionen definiert, um die Ausführungen in diesem Notebook übersichtlicher gestalten zu können.\n",
    "\n",
    "Dabei zeigt die Funktion `list_trees` die Struktur der Bäume als `str` an. Die Funktion `extend_grammar` hilft Regeln der Grammatiken nicht mehrfach aufschreiben zu müssen.  \n",
    "\n",
    "Die Funktion `show_tree` ist aus einem Kurs-Notebook entnommen."
   ]
  },
  {
   "cell_type": "code",
   "execution_count": 1,
   "metadata": {
    "collapsed": false
   },
   "outputs": [],
   "source": [
    "import nltk\n",
    "from IPython.display import Image\n",
    "import codecs\n",
    "\n",
    "def show_tree(tree):\n",
    "    try:\n",
    "        a = Image(tree._repr_png_())\n",
    "    except:\n",
    "        a = tree.__str__()\n",
    "    return a\n",
    "\n",
    "sent_list = []\n",
    "def list_trees(grammar, sent_list=sent_list):\n",
    "    for sent in sent_list:\n",
    "        sentence = sent.split()\n",
    "        \n",
    "        parser = nltk.ChartParser(grammar)\n",
    "        trees = parser.parse(sentence)\n",
    "        \n",
    "        for tree in trees:\n",
    "            print(sent, '\\n', tree)\n",
    "            \n",
    "def extend_grammar(grammar, new_rules):\n",
    "    grammar_string = \"\\n\".join([str(rule) for rule in grammar.productions()])\n",
    "    \n",
    "    for rule in new_rules:\n",
    "        grammar_string += \"\\n%s\" %(rule)\n",
    "        \n",
    "    extended_grammar = nltk.CFG.fromstring(grammar_string)\n",
    "    return extended_grammar"
   ]
  },
  {
   "cell_type": "markdown",
   "metadata": {},
   "source": [
    "Wir beginnen mit einer simplen, kontextfreien Grammatik `cfg_01` und einem simplen Satz, um zu zeigen, wie der Satz unter der angegebenen Grammatik geparst wird."
   ]
  },
  {
   "cell_type": "code",
   "execution_count": 2,
   "metadata": {
    "collapsed": false
   },
   "outputs": [
    {
     "name": "stdout",
     "output_type": "stream",
     "text": [
      "Eine Frau sieht einen Mann \n",
      " (S (NP (Det Eine) (N Frau)) (VP (V sieht) (NP (Det einen) (N Mann))))\n"
     ]
    }
   ],
   "source": [
    "sent_list = [\"Eine Frau sieht einen Mann\"]\n",
    "\n",
    "cfg_01 = nltk.CFG.fromstring(\"\"\"\n",
    "S -> NP VP\n",
    "NP -> Det N\n",
    "VP -> V NP\n",
    "N -> 'Mann' | 'Frau' \n",
    "V -> 'sieht'\n",
    "Det -> 'Eine' | 'einen'\n",
    "\"\"\")\n",
    "\n",
    "list_trees(cfg_01, sent_list)"
   ]
  },
  {
   "cell_type": "markdown",
   "metadata": {},
   "source": [
    "Der Satz `Eine Frau sieht einen Mann` ist ein grammatischer Satz des Deutschen und wie erwartet geparst worden.  \n",
    "Erweitern wir unsere Grammatik um ein paar `Det`-Regeln, sehen wir schnell, dass sich auch ungrammatische Sätze parsen lassen.\n",
    "\n",
    "## Kongruenz"
   ]
  },
  {
   "cell_type": "code",
   "execution_count": 3,
   "metadata": {
    "collapsed": false
   },
   "outputs": [
    {
     "name": "stdout",
     "output_type": "stream",
     "text": [
      "Ein Frau sieht einen Mann \n",
      " (S (NP (Det Ein) (N Frau)) (VP (V sieht) (NP (Det einen) (N Mann))))\n"
     ]
    }
   ],
   "source": [
    "cfg_02 = extend_grammar(cfg_01, [\"Det -> 'Ein'\", \"Det -> 'eine'\"])\n",
    "\n",
    "sent_list = [\"Ein Frau sieht einen Mann\"]\n",
    "\n",
    "list_trees(cfg_02, sent_list)"
   ]
  },
  {
   "cell_type": "markdown",
   "metadata": {},
   "source": [
    "Das Problem, was hier zu sehen ist, ist ein Problem der **Kongruenz**. So kongruiert das Genus des Determinierers nicht mit dem des Nomens.\n",
    "\n",
    "| Wort | Wortart | Genus |\n",
    "|------|---------|-------|\n",
    "| `Ein` | Determinierer | Neutrum/Maskulinum |\n",
    "| `Frau` | Nomen | Femininum |\n",
    "\n",
    "Gleiches Problem taucht zum Beispiel auch bei nicht kongruierendem Numerus, Kasus, oder bei Verben auch bei nicht kongruierender Person auf.\n",
    "\n",
    "    (3)\n",
    "    the dog runs\n",
    "    *the dog run\n",
    "    \n",
    "    (4)\n",
    "    the dogs run\n",
    "    *the dogs runs\n",
    "\n",
    "(Beispiel: Nicht kongruierender Numerus; NLTK Book - Chapter 9)\n",
    "\n",
    "Um das Problem der Kongruenz zu lösen, benötigen wir ein Regelwerk, das sicherstellt, dass (zum Beispiel bei Nomen) Kasus, Numerus und Genus der entsprechenden Satzteile aufeinander abgestimmt sind. Das heißt, dass ein Nomen im Femininum ein Determinierer im Femininum verlangt, und nicht eben ein Determinierer im Neutrum oder Maskulinum.  \n",
    "\n",
    "Die erste Möglichkeit, dies zu realisieren, die einem in den Sinn kommen mag, ist, die entsprechenden Regeln explizit aufzuschreiben. Schauen wir uns dazu die Regeln der Grammatik `cfg_02` an und überlegen, wie wir ungrammatische Sätze verhindern können.  \n"
   ]
  },
  {
   "cell_type": "code",
   "execution_count": 4,
   "metadata": {
    "collapsed": false
   },
   "outputs": [
    {
     "data": {
      "text/plain": [
       "[S -> NP VP,\n",
       " NP -> Det N,\n",
       " VP -> V NP,\n",
       " N -> 'Mann',\n",
       " N -> 'Frau',\n",
       " V -> 'sieht',\n",
       " Det -> 'Eine',\n",
       " Det -> 'einen',\n",
       " Det -> 'Ein',\n",
       " Det -> 'eine']"
      ]
     },
     "execution_count": 4,
     "metadata": {},
     "output_type": "execute_result"
    }
   ],
   "source": [
    "cfg_02.productions()"
   ]
  },
  {
   "cell_type": "markdown",
   "metadata": {},
   "source": [
    "Um **Kasuskongruenz** einhalten zu können, müssen wir sichergehen, dass die Nominalphrase, die das Subjekt unseres Satzes darstellt, im Nominativ, und die, die das Objekt darstellt, im Akkusativ steht.  \n",
    "Dafür müssen die Regeln `S -> NP VP` und `VP -> V NP` angepasst und zusätzlich noch jeweils eigene Regeln sowohl für eine Nominativ- und für eine Akkusativ-Nominalphrase als auch für die Nominativ- und Akkusativ-Determinierer geschrieben werden.\n",
    "\n",
    "    S -> NP_NOM VP\n",
    "    NP_NOM -> Det_NOM N_NOM\n",
    "    NP_AKK -> Det_AKK N_AKK\n",
    "    VP -> V NP_AKK\n",
    "    V -> 'sieht'\n",
    "    N -> 'Mann'\n",
    "    N -> 'Frau'\n",
    "    Det_NOM -> 'Ein' | 'Eine'\n",
    "    Det_AKK -> 'eine' | 'einen'\n",
    "\n",
    "Als nächstes kümmern wir uns um die **Genuskongruenz**. Das Genus muss in alle Regeln integriert werden, die `NP`, `N` und `Det` enthalten.\n",
    "\n",
    "    S -> NP_NOM_FEM VP\n",
    "    S -> NP_NOM_MSK VP\n",
    "    NP_NOM_FEM -> Det_NOM_FEM N_NOM_FEM\n",
    "    NP_AKK_FEM -> Det_AKK_FEM N_AKK_FEM\n",
    "    NP_NOM_MSK -> Det_NOM_MSK N_NOM_MSK\n",
    "    NP_AKK_MSK -> Det_AKK_MSK N_AKK_MSK\n",
    "    VP -> V NP_AKK_FEM | V NP_AKK_MSK\n",
    "    V -> 'sieht'\n",
    "    N_MSK -> 'Mann'\n",
    "    N_FEM -> 'Frau'\n",
    "    Det_NOM_FEM -> 'Eine'\n",
    "    Det_NOM_MSK -> 'Ein'\n",
    "    Det_AKK_FEM -> 'eine'\n",
    "    Det_AKK_MSK -> 'einen'\n",
    "\n",
    "Wir merken sehr schnell, dass das explizite Aufschreiben aller möglichen Regeln sehr umfangreich wird; und das, obwohl in unserem Beispiel nur zwei Geni genutzt wurden und wir die **Numeruskongruenz** sogar außer Acht lassen konnten, da nur die Singular-Formen in unserem Beispiel vertreten sind.  \n",
    "\n",
    "Wollten wir dies für jeden Kasus, für jeden Numerus und für jedes Genus machen, kommen wir alleine damit auf `4 * 2 * 3 = 24` mögliche Regel-Kombinationen. Und dies muss dann noch mit den *Grundregeln* multipliziert werden.\n",
    "\n",
    "Um dies zu vereinfachen, führen wir eine Notation ein, die es uns erlaubt, **Merkmalsstrukturen** in den Regeln unserer Grammatik unterzubringen.\n",
    "\n",
    "## Merkmalsstrukturen in die Grammatikregeln einbinden\n",
    "\n",
    "Die Phrasen und Wortarten in unseren Grammatikregeln haben gewisse Merkmale, und diese haben entsprechende Werte. Diese ergeben zusammen Merkmal-Wert-Paare, die uns bei der Vereinfachung unserer Grammatik helfen sollen. Die schon oben genannten Kongruenzmerkmale lassen sich in vereinfachter Form so darstellen:\n",
    "\n",
    "`MERKMAL=WERT`  \n",
    "`NUMERUS=SINGULAR`, `NUMERUS=PLURAL`, etc.\n",
    "\n",
    "Dabei wird das Merkmal abgekürzt in Großbuchstaben und der Wert abgekürzt in Kleinbuchstaben geschrieben. Die für uns relevanten Merkmalsstrukturen sind also:\n",
    "\n",
    "    KAS=nom\n",
    "    KAS=akk\n",
    "    GEN=fem\n",
    "    GEN=msk\n",
    "    \n",
    "Wir bleiben hier einfachheitshalber bei dem simplen Beispiel.  \n",
    "\n",
    "Schreiben wir unsere Regeln nach diesem Muster um, erhalten wir zwar eine für den Menschen angenehmer zu lesende Darstellung:\n",
    "\n",
    "    S -> NP[KAS=nom, GEN=fem] VP\n",
    "    S -> NP[KAS=nom, GEN=msk] VP\n",
    "    NP[KAS=nom, GEN=fem] -> Det[KAS=nom, GEN=fem] N[KAS=nom, GEN=fem]\n",
    "    NP[KAS=akk, GEN=fem] -> Det[KAS=akk, GEN=fem] N[KAS=akk, GEN=fem]\n",
    "    NP[KAS=nom, GEN=msk] -> Det[KAS=nom, GEN=msk] N[KAS=nom, GEN=msk]\n",
    "    NP[KAS=akk, GEN=msk] -> Det[KAS=akk, GEN=msk] N[KAS=akk, GEN=msk]\n",
    "    VP -> V NP[KAS=akk, GEN=fem] | VP -> V NP[KAS=akk, GEN=msk]\n",
    "    V -> 'sieht'\n",
    "    N[GEN=msk] -> 'Mann'\n",
    "    N[GEN=fem] -> 'Frau'\n",
    "    Det[KAS=nom, GEN=fem] -> 'Eine'\n",
    "    Det[KAS=nom, GEN=msk] -> 'Ein'\n",
    "    Det[KAS=akk, GEN=fem] -> 'eine'\n",
    "    Det[KAS=akk, GEN=msk] -> 'einen'\n",
    "    \n",
    "Jedoch ist dies im Vergleich zur vorherigen keine wirklich kürzere Darstellung.  \n",
    "Wollen wir eine übersichtlichere Grammatik erzeugen können, müssen wir **Variablen** einfügen.\n",
    "\n",
    "## Variablen für Merkmalswerte\n",
    "\n",
    "Mit der Einführung von Variablen für Merkmalswerte können wir ein paar Regeln zusammenfassend darstellen und die Grammatik so menschenlesbarer und übersichtlicher machen. Dabei benutzen wir die Notationskonvention, die Variable in der Form `?m` darzustellen, wobei `m` eine eindeutige, abgekürzte Form des Merkmals ist. Also `?g` für Genus, `?n` für Numerus, etc. So kann\n",
    "\n",
    "    S -> NP[KAS=nom, GEN=fem] VP\n",
    "    S -> NP[KAS=nom, GEN=msk] VP\n",
    "    \n",
    "zusammengefasst werden zu:\n",
    "\n",
    "    S -> NP[KAS=nom, GEN=?g] VP\n",
    "    \n",
    "Dieses `?g` kann nun ein beliebiges Genus annehmen. Wir implizieren:\n",
    "\n",
    "$$ ?g \\in G $$\n",
    "\n",
    "Mit `G`, Menge aller Geni (Femininum, Maskulinum, Neutrum).  \n",
    "Auf dieselbe Art und Weise können wir auch folgende Regeln zusammenfassen:\n",
    "\n",
    "    NP[KAS=nom, GEN=fem] -> Det[KAS=nom, GEN=fem] N[KAS=nom, GEN=fem]\n",
    "    NP[KAS=akk, GEN=fem] -> Det[KAS=akk, GEN=fem] N[KAS=akk, GEN=fem]\n",
    "    NP[KAS=nom, GEN=msk] -> Det[KAS=nom, GEN=msk] N[KAS=nom, GEN=msk]\n",
    "    NP[KAS=akk, GEN=msk] -> Det[KAS=akk, GEN=msk] N[KAS=akk, GEN=msk]\n",
    "    \n",
    "werden zu \n",
    "\n",
    "    NP[KAS=?k, GEN=?g] -> Det[KAS=?k, GEN=?g] N[KAS=?k, GEN=?g]\n",
    "    \n",
    "Hierbei beachten wir, dass, wie anzunehmen, `?k = ?k` und `?g = ?g` ist. So können wir sicherstellen, dass die Variable zwar erst frei gewählt werden kann, danach aber die anderen Variablen der gleichen Art auch denselben Wert einnehmen.\n",
    "\n",
    "    Wenn\n",
    "    NP[KAS=?k, GEN=?g] -> Det[KAS=?k, GEN=?g] N[KAS=?k, GEN=?g]\n",
    "    \n",
    "    Und\n",
    "    ?k = nom\n",
    "    ?g = fem\n",
    "    \n",
    "    Dann\n",
    "    NP[KAS=nom, GEN=fem] -> Det[KAS=nom, GEN=fem] N[KAS=nom, GEN=fem]\n",
    "    \n",
    "Die Formeln\n",
    "\n",
    "    VP -> V NP[KAS=akk, GEN=fem] | VP -> V NP[KAS=akk, GEN=msk]\n",
    "\n",
    "werden ebenfalls zu einer Formel zusammengefasst:\n",
    "\n",
    "    VP -> V NP[KAS=akk, GEN=?g]\n",
    "    \n",
    "Hier ist auch schön zu sehen, dass ein Merkmal einen festen Wert gesetzt bekommen kann (`KAS=akk`) während ein anderes Merkmal noch variabel ist (`GEN=?g`).  \n",
    "\n",
    "Zusammen führt uns das zu folgender, übersichtlicherer Grammatik:\n",
    "\n",
    "    S -> NP[KAS=nom, GEN=?g] VP\n",
    "    NP[KAS=?k, GEN=?g] -> Det[KAS=?k, GEN=?g] N[KAS=?k, GEN=?g]\n",
    "    VP -> V NP[KAS=akk, GEN=?g]\n",
    "    V -> 'sieht'\n",
    "    N[GEN=msk] -> 'Mann'\n",
    "    N[GEN=fem] -> 'Frau'\n",
    "    Det[KAS=nom, GEN=fem] -> 'Eine'\n",
    "    Det[KAS=nom, GEN=msk] -> 'Ein'\n",
    "    Det[KAS=akk, GEN=fem] -> 'eine'\n",
    "    Det[KAS=akk, GEN=msk] -> 'einen'\n",
    "    \n",
    "Wir speichern diese Grammatik in dem vom `nltk` vorgesehenen Dateiformat `.fcfg`."
   ]
  },
  {
   "cell_type": "code",
   "execution_count": 5,
   "metadata": {
    "collapsed": false
   },
   "outputs": [],
   "source": [
    "fcfg_01 = \"\"\"\n",
    "% start S\n",
    "S -> NP[KAS=nom, GEN=?g] VP\n",
    "NP[KAS=?k, GEN=?g] -> Det[KAS=?k, GEN=?g] N[KAS=?k, GEN=?g]\n",
    "VP -> V NP[KAS=akk, GEN=?g]\n",
    "V -> 'sieht'\n",
    "N[GEN=msk] -> 'Mann'\n",
    "N[GEN=fem] -> 'Frau'\n",
    "Det[KAS=nom, GEN=fem] -> 'Eine'\n",
    "Det[KAS=nom, GEN=msk] -> 'Ein'\n",
    "Det[KAS=akk, GEN=fem] -> 'eine'\n",
    "Det[KAS=akk, GEN=msk] -> 'einen'\n",
    "\"\"\"\n",
    "\n",
    "with codecs.open(\"fcfg_01.fcfg\", \"w\") as config:\n",
    "    config.write(fcfg_01)"
   ]
  },
  {
   "cell_type": "markdown",
   "metadata": {},
   "source": [
    "## Parsen mithilfe der Merkmalsstrukturen-Grammatik\n",
    "\n",
    "Nehmen wir nun unseren Beispielsatz `Eine Frau sieht einen Mann` und parsen diesen mithilfe der gerade gespeicherten Grammatik, sehen wir, dass der Satz wie gewünscht richtig geparst wird."
   ]
  },
  {
   "cell_type": "code",
   "execution_count": 6,
   "metadata": {
    "collapsed": false
   },
   "outputs": [
    {
     "name": "stdout",
     "output_type": "stream",
     "text": [
      "(S[]\n",
      "  (NP[GEN='fem', KAS='nom']\n",
      "    (Det[GEN='fem', KAS='nom'] Eine)\n",
      "    (N[GEN='fem'] Frau))\n",
      "  (VP[]\n",
      "    (V[] sieht)\n",
      "    (NP[GEN='msk', KAS='akk']\n",
      "      (Det[GEN='msk', KAS='akk'] einen)\n",
      "      (N[GEN='msk'] Mann))))\n"
     ]
    }
   ],
   "source": [
    "tokens = \"Eine Frau sieht einen Mann\".split()\n",
    "\n",
    "cp = nltk.load_parser(\"fcfg_01.fcfg\")\n",
    "for tree in cp.parse(tokens):\n",
    "    print(tree)"
   ]
  },
  {
   "cell_type": "markdown",
   "metadata": {},
   "source": [
    "Wir können uns diesen Baum auch grafisch anzeigen lassen:"
   ]
  },
  {
   "cell_type": "code",
   "execution_count": 7,
   "metadata": {
    "collapsed": false
   },
   "outputs": [
    {
     "data": {
      "image/png": "[encoded data removed]",
      "text/plain": [
       "<IPython.core.display.Image object>"
      ]
     },
     "execution_count": 7,
     "metadata": {},
     "output_type": "execute_result"
    }
   ],
   "source": [
    "show_tree(tree)"
   ]
  },
  {
   "cell_type": "markdown",
   "metadata": {},
   "source": [
    "Versuchen wir nun jedoch den vorher *falsch* geparsten Satz `Ein Frau sieht einen Mann` zu parsen, stellen wir fest, dass kein Baum angezeigt wird."
   ]
  },
  {
   "cell_type": "code",
   "execution_count": 8,
   "metadata": {
    "collapsed": false
   },
   "outputs": [],
   "source": [
    "tokens = \"Ein Frau sieht einen Mann\".split()\n",
    "\n",
    "cp = nltk.load_parser(\"fcfg_01.fcfg\")\n",
    "for tree in cp.parse(tokens):\n",
    "    print(tree)"
   ]
  },
  {
   "cell_type": "markdown",
   "metadata": {},
   "source": [
    "Dies passiert, wenn der Parser keinen Baum erstellen kann und somit `cp.parse(tokens)` leer bleibt. Wird also kein Baum angezeigt, ist der geparste Satz **ungrammatisch**.\n",
    "\n",
    "## Erweiterte Merkmalsstrukturen\n",
    "\n",
    "Bisher haben wir für die Merkmalsstrukturen einfache Beispiele gesehen, deren Werte nur atomar waren. Das NLTK bietet jedoch die Möglichkeit auch komplexe Merkmalsstrukturen zu bilden und mit diesen weitergehend zu arbeiten.  \n",
    "\n",
    "Mithilfe des `FeatStruct()` Konstruktors können wir hier einige Beispiel-Strukturen zeigen."
   ]
  },
  {
   "cell_type": "code",
   "execution_count": 9,
   "metadata": {
    "collapsed": false
   },
   "outputs": [
    {
     "name": "stdout",
     "output_type": "stream",
     "text": [
      "[ GEN = 'fem' ]\n",
      "[ KAS = 'nom' ]\n",
      "[ NUM = 'sg'  ]\n"
     ]
    }
   ],
   "source": [
    "fs_katze_01 = nltk.FeatStruct(KAS='nom', NUM='sg', GEN='fem')\n",
    "\n",
    "print(fs_katze_01)"
   ]
  },
  {
   "cell_type": "markdown",
   "metadata": {},
   "source": [
    "Wir können die orthografische Darstellung der Katze ebenfalls in der Merkmalsstruktur unterbringen. Das NLTK bietet neben der bekannten Indizierung auch die gewohnte Zuweisungs-Funktion an."
   ]
  },
  {
   "cell_type": "code",
   "execution_count": 10,
   "metadata": {
    "collapsed": false
   },
   "outputs": [
    {
     "name": "stdout",
     "output_type": "stream",
     "text": [
      "[ GEN  = 'fem'   ]\n",
      "[ KAS  = 'nom'   ]\n",
      "[ NUM  = 'sg'    ]\n",
      "[ ORTH = 'Katze' ]\n"
     ]
    }
   ],
   "source": [
    "fs_katze_01['ORTH'] = 'Katze'\n",
    "\n",
    "print(fs_katze_01)"
   ]
  },
  {
   "cell_type": "markdown",
   "metadata": {},
   "source": [
    "Um die Komplexität aber gleichzeitig auch die Menschenlesbarkeit zu erhöhen, können wir die Kongruenzmerkmale gruppieren und so von der Orthographie *getrennt* darstellen lassen. "
   ]
  },
  {
   "cell_type": "code",
   "execution_count": 11,
   "metadata": {
    "collapsed": false
   },
   "outputs": [
    {
     "name": "stdout",
     "output_type": "stream",
     "text": [
      "[             [ GEN = 'fem' ] ]\n",
      "[ KONGRUENZ = [ KAS = 'nom' ] ]\n",
      "[             [ NUM = 'sg'  ] ]\n",
      "[                             ]\n",
      "[ ORTH      = 'Katze'         ]\n"
     ]
    }
   ],
   "source": [
    "fs_katze_03 = nltk.FeatStruct(\"[ORTH='Katze', KONGRUENZ=[GEN='fem', KAS='nom', NUM='sg']]\")\n",
    "\n",
    "print(fs_katze_03)"
   ]
  },
  {
   "cell_type": "markdown",
   "metadata": {},
   "source": [
    "Auch wenn dies hier eher eine Spielerei wäre, gibt es Fälle, in denen die folgende Funktionalität brauchbar ist. Es lassen sich nämlich selbstverständlich nicht nur linguistische Kategorien als Merkmalsstrukturen darstellen.  \n",
    "\n",
    "Die Strukturen sind zur Informationsspeicherung da; dabei ist es egal, ob es linguistische oder zum Beispiel Welt-Informationen sind."
   ]
  },
  {
   "cell_type": "code",
   "execution_count": 12,
   "metadata": {
    "collapsed": false
   },
   "outputs": [
    {
     "name": "stdout",
     "output_type": "stream",
     "text": [
      "[ ALTER     = 6               ]\n",
      "[                             ]\n",
      "[             [ GEN = 'fem' ] ]\n",
      "[ KONGRUENZ = [ KAS = 'nom' ] ]\n",
      "[             [ NUM = 'sg'  ] ]\n",
      "[                             ]\n",
      "[ NAME      = 'Frau Holle'    ]\n",
      "[ ORTH      = 'Katze'         ]\n"
     ]
    }
   ],
   "source": [
    "fs_katze_04 = fs_katze_03\n",
    "fs_katze_04['NAME'] = 'Frau Holle'\n",
    "fs_katze_04['ALTER'] = 6\n",
    "\n",
    "print(fs_katze_04)"
   ]
  },
  {
   "cell_type": "markdown",
   "metadata": {},
   "source": [
    "Eine Merkmalsstruktur kann als Menge angesehen werden und bietet somit einige Operationsmöglichkeiten, die wir aus der Mengenlehre kennen. So können wir beispielsweise zwei Merkmalsstrukturen miteinander *vereinigen*.\n",
    "\n",
    "## Unification/Vereinigung von Merkmalsstrukturen\n",
    "\n",
    "Speichern wir die Informationen, die wir über vorherige Katze haben entsprechend der Kategorien ab, der sie zugeordnet werden könnten, können wir Weltwissen, linguistische Merkmale, etc. voneinander getrennt darstellen"
   ]
  },
  {
   "cell_type": "code",
   "execution_count": 13,
   "metadata": {
    "collapsed": false
   },
   "outputs": [],
   "source": [
    "fs_katze_05 = nltk.FeatStruct(NAME='Frau Holle', ALTER=6)\n",
    "fs_katze_06 = nltk.FeatStruct(ORTH='Katze', ARTIKEL='Die')\n",
    "fs_katze_07 = nltk.FeatStruct(\"[KONGRUENZ=[GEN='fem', KAS='nom', NUM='sg']]\")"
   ]
  },
  {
   "cell_type": "markdown",
   "metadata": {},
   "source": [
    "und im nächsten Schritt vereinigen.\n",
    "\n",
    "$$ fs\\_katze\\_05 \\sqcup fs\\_katze\\_06 \\sqcup fs\\_katze\\_07 $$"
   ]
  },
  {
   "cell_type": "code",
   "execution_count": 14,
   "metadata": {
    "collapsed": false
   },
   "outputs": [
    {
     "name": "stdout",
     "output_type": "stream",
     "text": [
      "[ ALTER     = 6               ]\n",
      "[ ARTIKEL   = 'Die'           ]\n",
      "[                             ]\n",
      "[             [ GEN = 'fem' ] ]\n",
      "[ KONGRUENZ = [ KAS = 'nom' ] ]\n",
      "[             [ NUM = 'sg'  ] ]\n",
      "[                             ]\n",
      "[ NAME      = 'Frau Holle'    ]\n",
      "[ ORTH      = 'Katze'         ]\n"
     ]
    }
   ],
   "source": [
    "fs_katze_08 = fs_katze_05.unify(fs_katze_06.unify(fs_katze_07))\n",
    "\n",
    "print(fs_katze_08)"
   ]
  },
  {
   "cell_type": "markdown",
   "metadata": {},
   "source": [
    "Bleiben wir bei mengentheoretischen Operationen, können wir schauen, ob eine Merkmalsstruktur eine Teilmenge einer anderen Merkmalsstruktur ist:\n",
    "\n",
    "$$ fs\\_katze\\_05  \\subseteq fs\\_katze\\_08 $$"
   ]
  },
  {
   "cell_type": "code",
   "execution_count": 15,
   "metadata": {
    "collapsed": false
   },
   "outputs": [
    {
     "data": {
      "text/plain": [
       "True"
      ]
     },
     "execution_count": 15,
     "metadata": {},
     "output_type": "execute_result"
    }
   ],
   "source": [
    "fs_katze_05.subsumes(fs_katze_08)"
   ]
  },
  {
   "cell_type": "markdown",
   "metadata": {},
   "source": [
    "Oder eben nicht:"
   ]
  },
  {
   "cell_type": "code",
   "execution_count": 16,
   "metadata": {
    "collapsed": false
   },
   "outputs": [
    {
     "data": {
      "text/plain": [
       "False"
      ]
     },
     "execution_count": 16,
     "metadata": {},
     "output_type": "execute_result"
    }
   ],
   "source": [
    "fs_katze_08.subsumes(fs_katze_05)"
   ]
  },
  {
   "cell_type": "markdown",
   "metadata": {
    "collapsed": true
   },
   "source": [
    "## Vorteile von gemeinsam genutzten Merkmalsstrukturen\n",
    "\n",
    "Wenn wir mehrere komplexe Merkmalsstrukturen erstellen, die jedoch teilweise übereinstimmen, können wir die Strukturen so bearbeiten, dass wir keine Information doppelt notieren müssen. \n",
    "\n",
    "So lässt sich:"
   ]
  },
  {
   "cell_type": "code",
   "execution_count": 17,
   "metadata": {
    "collapsed": false
   },
   "outputs": [
    {
     "name": "stdout",
     "output_type": "stream",
     "text": [
      "[               [ HAUSNUMMER = 15                   ]               ]\n",
      "[ ADRESSE     = [ STADT      = 'Bielefeld'          ]               ]\n",
      "[               [ STRASSE    = 'Universitätsstraße' ]               ]\n",
      "[                                                                   ]\n",
      "[               [           [ HAUSNUMMER = 15                   ] ] ]\n",
      "[               [ ADRESSE = [ STADT      = 'Bielefeld'          ] ] ]\n",
      "[ MITBEWOHNER = [           [ STRASSE    = 'Universitätsstraße' ] ] ]\n",
      "[               [                                                 ] ]\n",
      "[               [ NAME    = 'Felix'                               ] ]\n",
      "[                                                                   ]\n",
      "[ NAME        = 'Lena'                                              ]\n"
     ]
    }
   ],
   "source": [
    "fs_person_a = nltk.FeatStruct(\"\"\"[NAME='Lena', \n",
    "                                  ADRESSE=[STADT='Bielefeld', \n",
    "                                           STRASSE='Universitätsstraße',\n",
    "                                           HAUSNUMMER=15],\n",
    "                                  MITBEWOHNER=[NAME='Felix', \n",
    "                                  ADRESSE=[STADT='Bielefeld', \n",
    "                                           STRASSE='Universitätsstraße', \n",
    "                                           HAUSNUMMER=15]]]\"\"\")\n",
    "\n",
    "print(fs_person_a)"
   ]
  },
  {
   "cell_type": "markdown",
   "metadata": {},
   "source": [
    "vereinfachen, indem man der doppelt vorkommenden Information einen Index zuordnet und auf diesen bei häufigerer Benutzung referiert."
   ]
  },
  {
   "cell_type": "code",
   "execution_count": 18,
   "metadata": {
    "collapsed": false
   },
   "outputs": [
    {
     "name": "stdout",
     "output_type": "stream",
     "text": [
      "[                   [ HAUSNUMMER = 15                   ] ]\n",
      "[ ADRESSE     = (1) [ STADT      = 'Bielefeld'          ] ]\n",
      "[                   [ STRASSE    = 'Universitätsstraße' ] ]\n",
      "[                                                         ]\n",
      "[ MITBEWOHNER = [ ADRESSE -> (1)    ]                     ]\n",
      "[               [ NAME    = 'Felix' ]                     ]\n",
      "[                                                         ]\n",
      "[ NAME        = 'Lena'                                    ]\n"
     ]
    }
   ],
   "source": [
    "fs_person_b = nltk.FeatStruct(\"\"\"[NAME='Lena', \n",
    "                                  ADRESSE=(1)[STADT='Bielefeld', \n",
    "                                              STRASSE='Universitätsstraße', \n",
    "                                              HAUSNUMMER=15],\n",
    "                                  MITBEWOHNER=[NAME='Felix', \n",
    "                                  ADRESSE->(1)]]\"\"\")\n",
    "\n",
    "print(fs_person_b)"
   ]
  },
  {
   "cell_type": "markdown",
   "metadata": {},
   "source": [
    "Beim `print` ist dies noch nicht sichtbar; jedoch ist die Information per direkter Indizierung referierbar."
   ]
  },
  {
   "cell_type": "code",
   "execution_count": 19,
   "metadata": {
    "collapsed": false
   },
   "outputs": [
    {
     "name": "stdout",
     "output_type": "stream",
     "text": [
      "[ HAUSNUMMER = 15                   ]\n",
      "[ STADT      = 'Bielefeld'          ]\n",
      "[ STRASSE    = 'Universitätsstraße' ]\n"
     ]
    }
   ],
   "source": [
    "print(fs_person_b['MITBEWOHNER']['ADRESSE'])"
   ]
  },
  {
   "cell_type": "code",
   "execution_count": 20,
   "metadata": {
    "collapsed": false
   },
   "outputs": [
    {
     "data": {
      "text/plain": [
       "True"
      ]
     },
     "execution_count": 20,
     "metadata": {},
     "output_type": "execute_result"
    }
   ],
   "source": [
    "fs_person_b['ADRESSE'] is fs_person_b['MITBEWOHNER']['ADRESSE']"
   ]
  },
  {
   "cell_type": "markdown",
   "metadata": {},
   "source": [
    "Spannend wird es nun, wenn wir die gemeinsam genutzten Merkmalsstrukturen mit der Vereinigung nutzen."
   ]
  },
  {
   "cell_type": "code",
   "execution_count": 21,
   "metadata": {
    "collapsed": false
   },
   "outputs": [
    {
     "name": "stdout",
     "output_type": "stream",
     "text": [
      "[                   [ BUNDESLAND = 'NRW'                ] ]\n",
      "[ ADRESSE     = (1) [ HAUSNUMMER = 15                   ] ]\n",
      "[                   [ STADT      = 'Bielefeld'          ] ]\n",
      "[                   [ STRASSE    = 'Universitätsstraße' ] ]\n",
      "[                                                         ]\n",
      "[ MITBEWOHNER = [ ADRESSE -> (1)    ]                     ]\n",
      "[               [ NAME    = 'Felix' ]                     ]\n",
      "[                                                         ]\n",
      "[ NAME        = 'Lena'                                    ]\n"
     ]
    }
   ],
   "source": [
    "fs_person_c = nltk.FeatStruct(\"[MITBEWOHNER=[ADRESSE=[BUNDESLAND='NRW']]]\")\n",
    "\n",
    "fs_person_d = fs_person_b.unify(fs_person_c)\n",
    "\n",
    "print(fs_person_d)"
   ]
  },
  {
   "cell_type": "markdown",
   "metadata": {},
   "source": [
    "Zusätzliche Informationen müssen nur an einer Stelle eingefügt werden und werden durch die Indizierung auch für alle anderen gespeicherten Instanzen aktualisiert.\n",
    "\n",
    "## Ausblick - Weitergehende Möglichkeiten von erweiterten Merkmalsstrukturen\n",
    "\n",
    "Die gezeigten Merkmalsstrukturen lassen sich noch komplexer machen, um weitere Syntax-Phänomene abzudecken. Neben einfachen Erweiterungen, wie der booleschen Verwendung von Merkmalen `+MERKMAL` beziehungsweise `-MERKMAL` und Verschiebungen im Satz (umgekehrten Reihenfolgen), wie sie zum Beispiel in Fragesätzen auftauchen können beispielsweise auch Subkategorien von Wortarten in die Merkmalsstrukturen implementiert werden, um das Verhältnis von zum Beispiel `VERB` zu `TRANSITIVES VERB` oder aber von `NP` zu `N'` deutlich zu machen. (NLTK Book 9.3)"
   ]
  },
  {
   "cell_type": "markdown",
   "metadata": {},
   "source": [
    "___\n",
    "## Literaturangaben\n",
    "\n",
    "1. **NLTK Book - Chapter 9** ([html][1])\n",
    "2. **Einführung in die Computerlinguistik - Syntax: Merkmalsstrukturen** - Vorlesungsfolien zur \"Einführung in die Computerlinguistik\" WS 2011/2012 - Manfred Pinkal - Universität des Saarlandes ([pdf][2])\n",
    "3. **Einführung in unifikationsbasierte Grammatikformalismen** - Kommentierte Vorlesungsfolien zur \"Einführung Computerlinguistik\" SS 2010 - Wiebke Petersen - Universität Düsseldorf (Original: Thomas Hanneforth - Universität Potsdam) ([pdf][3])\n",
    "\n",
    "[1]: http://www.nltk.org/book/ch09.html\n",
    "[2]: http://www.coli.uni-saarland.de/courses/I2CL-11/material/folien/CL11Folien7-Merkmalsstrukturen.pdf\n",
    "[3]: https://user.phil-fak.uni-duesseldorf.de/~petersen/Einf_CL_SoSe10/material/ms.pdf"
   ]
  }
 ],
 "metadata": {
  "kernelspec": {
   "display_name": "Python 3",
   "language": "python",
   "name": "python3"
  },
  "language_info": {
   "codemirror_mode": {
    "name": "ipython",
    "version": 3
   },
   "file_extension": ".py",
   "mimetype": "text/x-python",
   "name": "python",
   "nbconvert_exporter": "python",
   "pygments_lexer": "ipython3",
   "version": "3.5.1"
  }
 },
 "nbformat": 4,
 "nbformat_minor": 0
}
